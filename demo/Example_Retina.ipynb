{
 "cells": [
  {
   "cell_type": "markdown",
   "id": "e1b0f73d",
   "metadata": {},
   "source": [
    "## Example analysis on CRN for cholesterol regulation in Retina"
   ]
  },
  {
   "cell_type": "markdown",
   "id": "1ad6def4",
   "metadata": {},
   "source": [
    "### Include relevant functions and files"
   ]
  },
  {
   "cell_type": "code",
   "execution_count": 1,
   "id": "a891735c",
   "metadata": {},
   "outputs": [
    {
     "name": "stdout",
     "output_type": "stream",
     "text": []
    }
   ],
   "source": [
    "using CRNAnalysis\n",
    "using Catalyst\n",
    "using Oscar\n",
    "retina_rn = include(\"../data/retina.jl\");"
   ]
  },
  {
   "cell_type": "markdown",
   "id": "bdc44dde",
   "metadata": {},
   "source": [
    "### Run the decomposition and generate the subnetworks"
   ]
  },
  {
   "cell_type": "code",
   "execution_count": 2,
   "id": "d2326f02",
   "metadata": {},
   "outputs": [
    {
     "name": "stdout",
     "output_type": "stream",
     "text": [
      "Number of independent subnetworks: 27\n",
      "Subnetwork 1: [1, 4, 7]\n",
      "Subnetwork 2: [2, 5, 8]\n",
      "Subnetwork 3: [3, 6, 9]\n",
      "Subnetwork 4: [10, 22, 24, 27, 29]\n",
      "Subnetwork 5: [11, 25, 30]\n",
      "Subnetwork 6: [12, 23, 26, 28]\n",
      "Subnetwork 7: [13, 35, 39]\n",
      "Subnetwork 8: [14, 36, 41]\n",
      "Subnetwork 9: [15, 63]\n",
      "Subnetwork 10: [16]\n",
      "Subnetwork 11: [17, 64]\n",
      "Subnetwork 12: [18, 40]\n",
      "Subnetwork 13: [19, 42]\n",
      "Subnetwork 14: [20, 37]\n",
      "Subnetwork 15: [21, 38]\n",
      "Subnetwork 16: [31]\n",
      "Subnetwork 17: [32]\n",
      "Subnetwork 18: [33]\n",
      "Subnetwork 19: [34]\n",
      "Subnetwork 20: [43]\n",
      "Subnetwork 21: [44]\n",
      "Subnetwork 22: [45]\n",
      "Subnetwork 23: [46, 47, 49, 57, 58, 60, 61, 65, 69, 70, 48, 50, 66, 67]\n",
      "Subnetwork 24: [51, 52]\n",
      "Subnetwork 25: [53, 54]\n",
      "Subnetwork 26: [55, 56]\n",
      "Subnetwork 27: [59, 62, 68]\n"
     ]
    }
   ],
   "source": [
    "subnets = generate_subnets(retina_rn);"
   ]
  },
  {
   "cell_type": "code",
   "execution_count": null,
   "id": "ed04f763",
   "metadata": {},
   "outputs": [
    {
     "data": {
      "text/plain": [
       "4-element Vector{String}:\n",
       " \"retina/Retina_SN1.jl\"\n",
       " \"retina/Retina_SN2.jl\"\n",
       " \"retina/Retina_SN3.jl\"\n",
       " \"retina/Retina_SN23.jl\""
      ]
     },
     "metadata": {},
     "output_type": "display_data"
    }
   ],
   "source": [
    "save_subnet.(subnets[[1, 2, 3, 23]], path=\"retina/\")"
   ]
  },
  {
   "cell_type": "markdown",
   "id": "11078f3f",
   "metadata": {},
   "source": [
    "### Preliminary subnetwork anlalysis"
   ]
  },
  {
   "cell_type": "code",
   "execution_count": 10,
   "id": "9c0694c5",
   "metadata": {},
   "outputs": [
    {
     "data": {
      "text/latex": [
       "$$ \\begin{align*}\n",
       "\\varnothing &\\xrightarrow{\\mu} \\mathrm{\\mathtt{Sci}} \\\\\n",
       "\\mathrm{\\mathtt{Ce}} &\\xrightarrow{\\theta} \\mathrm{\\mathtt{Ce}} + \\mathrm{C} \\\\\n",
       "\\mathrm{\\mathtt{Sci}} + \\mathrm{C} &\\xrightarrow{\\eta} \\varnothing  \n",
       " \\end{align*}\n",
       " $$"
      ],
      "text/plain": [
       "\u001b[0m\u001b[1mModel Retina_SN1:\u001b[22m\n",
       "\u001b[0m\u001b[1mUnknowns (3):\u001b[22m see unknowns(Retina_SN1)\n",
       "  Sci(t)\n",
       "  Ce(t)\n",
       "  C(t)\n",
       "\u001b[0m\u001b[1mParameters (3):\u001b[22m see parameters(Retina_SN1)\n",
       "  μ\n",
       "  θ\n",
       "  η"
      ]
     },
     "metadata": {},
     "output_type": "display_data"
    }
   ],
   "source": [
    "retina_sn1 = include(\"retina/Retina_SN1.jl\")\n",
    "@assert retina_sn1 == subnets[1]\n",
    "retina_sn1"
   ]
  },
  {
   "cell_type": "code",
   "execution_count": 5,
   "id": "0eeb1d99",
   "metadata": {},
   "outputs": [
    {
     "data": {
      "text/plain": [
       "1"
      ]
     },
     "metadata": {},
     "output_type": "display_data"
    }
   ],
   "source": [
    "deficiency(retina_sn1)"
   ]
  },
  {
   "cell_type": "markdown",
   "id": "f31e2acb",
   "metadata": {},
   "source": [
    "### Catalyst can identify RPA-capable species in a deficiency 1 network"
   ]
  },
  {
   "cell_type": "code",
   "execution_count": 6,
   "id": "9c708b42",
   "metadata": {},
   "outputs": [
    {
     "data": {
      "text/plain": [
       "1-element Vector{SymbolicUtils.BasicSymbolic{Real}}:\n",
       " Ce(t)"
      ]
     },
     "metadata": {},
     "output_type": "display_data"
    }
   ],
   "source": [
    "species(retina_sn1)[Catalyst.robustspecies(retina_sn1)]"
   ]
  },
  {
   "cell_type": "markdown",
   "id": "0b561dfe",
   "metadata": {},
   "source": [
    "### Find the coefficients for a rowspan polynomial for subnetwork 1 involving the first and third complexes"
   ]
  },
  {
   "cell_type": "code",
   "execution_count": 7,
   "id": "2b23e940",
   "metadata": {},
   "outputs": [
    {
     "data": {
      "text/latex": [
       "$$ \\begin{equation}\n",
       "\\left[\n",
       "\\begin{array}{c}\n",
       " - \\frac{1}{\\theta} \\\\\n",
       "0 \\\\\n",
       " - \\frac{-1}{\\theta} \\\\\n",
       "\\end{array}\n",
       "\\right]\n",
       "\\end{equation}\n",
       " $$"
      ],
      "text/plain": [
       "3×1 Matrix{Num}:\n",
       "  -(1 / θ)\n",
       "         0\n",
       " -(-1 / θ)"
      ]
     },
     "metadata": {},
     "output_type": "display_data"
    }
   ],
   "source": [
    "b, invariant = rowspan_invariants(retina_sn1, [1, 3])\n",
    "b"
   ]
  },
  {
   "cell_type": "code",
   "execution_count": 8,
   "id": "c59bd9fb",
   "metadata": {},
   "outputs": [
    {
     "data": {
      "text/latex": [
       "$$ \\begin{equation}\n",
       "\\left[\n",
       "\\begin{array}{ccccc}\n",
       "\\frac{ - \\mu}{\\theta} & 0 & 1 & 0 & 0 \\\\\n",
       "\\end{array}\n",
       "\\right]\n",
       "\\end{equation}\n",
       " $$"
      ],
      "text/plain": [
       "1×5 Matrix{Num}:\n",
       " (-μ) / θ  0  1  0  0"
      ]
     },
     "metadata": {},
     "output_type": "display_data"
    }
   ],
   "source": [
    "invariant"
   ]
  },
  {
   "cell_type": "markdown",
   "id": "7e673f13",
   "metadata": {},
   "source": [
    "### Multiply the polynomial coefficients by the mass action vector to get the RPA equation for subnetwork 1"
   ]
  },
  {
   "cell_type": "code",
   "execution_count": 9,
   "id": "5bc78187",
   "metadata": {},
   "outputs": [
    {
     "data": {
      "text/latex": [
       "$$ \\begin{equation}\n",
       "\\left[\n",
       "\\begin{array}{c}\n",
       "\\frac{ - \\mu}{\\theta} + \\mathtt{Ce}\\left( t \\right) \\\\\n",
       "\\end{array}\n",
       "\\right]\n",
       "\\end{equation}\n",
       " $$"
      ],
      "text/plain": [
       "1-element Vector{Num}:\n",
       " (-μ) / θ + Ce(t)"
      ]
     },
     "metadata": {},
     "output_type": "display_data"
    }
   ],
   "source": [
    "invariant * massactionvector(retina_sn1)"
   ]
  },
  {
   "cell_type": "markdown",
   "id": "5c32bdc2",
   "metadata": {},
   "source": [
    "### Load remaing subnetwork files"
   ]
  },
  {
   "cell_type": "code",
   "execution_count": 10,
   "id": "34f9a5fa",
   "metadata": {},
   "outputs": [
    {
     "data": {
      "text/latex": [
       "$$ \\begin{align*}\n",
       "\\varnothing &\\xrightarrow{\\beta} \\mathrm{\\mathtt{Sci2}} \\\\\n",
       "\\mathrm{\\mathtt{Ce2}} &\\xrightarrow{\\kappa} \\mathrm{\\mathtt{Ce2}} + \\mathrm{\\mathtt{C2}} \\\\\n",
       "\\mathrm{\\mathtt{Sci2}} + \\mathrm{\\mathtt{C2}} &\\xrightarrow{\\varepsilon} \\varnothing  \n",
       " \\end{align*}\n",
       " $$"
      ],
      "text/plain": [
       "\u001b[0m\u001b[1mModel Retina_SN3:\u001b[22m\n",
       "\u001b[0m\u001b[1mUnknowns (3):\u001b[22m see unknowns(Retina_SN3)\n",
       "  Sci2(t)\n",
       "  Ce2(t)\n",
       "  C2(t)\n",
       "\u001b[0m\u001b[1mParameters (3):\u001b[22m see parameters(Retina_SN3)\n",
       "  β\n",
       "  κ\n",
       "  ε"
      ]
     },
     "metadata": {},
     "output_type": "display_data"
    }
   ],
   "source": [
    "# for i in 1:27\n",
    "#     include(\"Retina_SN$(i).jl\")\n",
    "# end\n",
    "retina_sn2 = include(\"retina/Retina_SN2.jl\")\n",
    "retina_sn3 = include(\"retina/Retina_SN3.jl\")"
   ]
  },
  {
   "cell_type": "markdown",
   "id": "58e92139",
   "metadata": {},
   "source": [
    "### Find rowspan polynomials of remaining deficiency 1 subnetworks"
   ]
  },
  {
   "cell_type": "code",
   "execution_count": 11,
   "id": "b070979b",
   "metadata": {},
   "outputs": [
    {
     "data": {
      "text/latex": [
       "$$ \\begin{equation}\n",
       "\\left[\n",
       "\\begin{array}{ccccc}\n",
       "\\frac{ - \\varphi}{\\lambda} & 0 & 1 & 0 & 0 \\\\\n",
       "\\end{array}\n",
       "\\right]\n",
       "\\end{equation}\n",
       " $$"
      ],
      "text/plain": [
       "1×5 Matrix{Num}:\n",
       " (-φ) / λ  0  1  0  0"
      ]
     },
     "metadata": {},
     "output_type": "display_data"
    }
   ],
   "source": [
    "b, invariant = rowspan_invariants(retina_sn2, [1, 3])\n",
    "invariant"
   ]
  },
  {
   "cell_type": "code",
   "execution_count": 12,
   "id": "ba055258",
   "metadata": {},
   "outputs": [
    {
     "data": {
      "text/latex": [
       "$$ \\begin{equation}\n",
       "\\left[\n",
       "\\begin{array}{c}\n",
       "\\frac{ - \\varphi}{\\lambda} + \\mathtt{Ce1}\\left( t \\right) \\\\\n",
       "\\end{array}\n",
       "\\right]\n",
       "\\end{equation}\n",
       " $$"
      ],
      "text/plain": [
       "1-element Vector{Num}:\n",
       " (-φ) / λ + Ce1(t)"
      ]
     },
     "metadata": {},
     "output_type": "display_data"
    }
   ],
   "source": [
    "invariant * massactionvector(retina_sn2)"
   ]
  },
  {
   "cell_type": "code",
   "execution_count": 13,
   "id": "a96ebe46",
   "metadata": {},
   "outputs": [
    {
     "data": {
      "text/latex": [
       "$$ \\begin{equation}\n",
       "\\left[\n",
       "\\begin{array}{ccccc}\n",
       "\\frac{ - \\beta}{\\kappa} & 0 & 1 & 0 & 0 \\\\\n",
       "\\end{array}\n",
       "\\right]\n",
       "\\end{equation}\n",
       " $$"
      ],
      "text/plain": [
       "1×5 Matrix{Num}:\n",
       " (-β) / κ  0  1  0  0"
      ]
     },
     "metadata": {},
     "output_type": "display_data"
    }
   ],
   "source": [
    "b, invariant = rowspan_invariants(retina_sn3, [1, 3])\n",
    "invariant"
   ]
  },
  {
   "cell_type": "code",
   "execution_count": 14,
   "id": "7ec6a83d",
   "metadata": {},
   "outputs": [
    {
     "data": {
      "text/latex": [
       "$$ \\begin{equation}\n",
       "\\left[\n",
       "\\begin{array}{c}\n",
       "\\frac{ - \\beta}{\\kappa} + \\mathtt{Ce2}\\left( t \\right) \\\\\n",
       "\\end{array}\n",
       "\\right]\n",
       "\\end{equation}\n",
       " $$"
      ],
      "text/plain": [
       "1-element Vector{Num}:\n",
       " (-β) / κ + Ce2(t)"
      ]
     },
     "metadata": {},
     "output_type": "display_data"
    }
   ],
   "source": [
    "invariant * massactionvector(retina_sn3)"
   ]
  },
  {
   "cell_type": "code",
   "execution_count": 15,
   "id": "500879d9",
   "metadata": {},
   "outputs": [],
   "source": [
    "# TODO work out for all subnets\n",
    "# for sn in subnets\n",
    "#     complex_ids = [1, 3]\n",
    "#     _, invariant = rowspan_invariants(sn, complex_ids)\n",
    "#     display(sn.name)\n",
    "#     display(invariant)\n",
    "# end"
   ]
  },
  {
   "cell_type": "markdown",
   "id": "876842ed",
   "metadata": {},
   "source": [
    "### Oscar can also be used to find polynomials in both the rowspan and the ideal of the rate equations"
   ]
  },
  {
   "cell_type": "code",
   "execution_count": 19,
   "id": "958a9878",
   "metadata": {},
   "outputs": [
    {
     "data": {
      "text/plain": [
       "Gröbner basis with elements\n",
       "  1: k[2]*x[2] - k[1]\n",
       "  2: k[3]*x[1]*x[3] - k[1]\n",
       "with respect to the ordering\n",
       "  lex([x[1], x[3], x[2]])"
      ]
     },
     "metadata": {},
     "output_type": "display_data"
    }
   ],
   "source": [
    "f1 = get_oscar_steadystatesystem(retina_sn1)\n",
    "I1 = ideal(f1)\n",
    "x = gens(base_ring(I1))\n",
    "G1 = Oscar.groebner_basis(I1, ordering=lex([x[1],x[3],x[2]]),  complete_reduction = true)"
   ]
  },
  {
   "cell_type": "code",
   "execution_count": 21,
   "id": "d388ae18",
   "metadata": {},
   "outputs": [
    {
     "data": {
      "text/latex": [
       "$$ \\begin{equation}\n",
       "\\frac{\\mu}{\\theta}\n",
       "\\end{equation}\n",
       " $$"
      ],
      "text/plain": [
       "μ / θ"
      ]
     },
     "metadata": {},
     "output_type": "display_data"
    }
   ],
   "source": [
    "setpoint_sn1 = (parameters(retina_sn1)[1]) / (parameters(retina_sn1)[2])"
   ]
  },
  {
   "cell_type": "code",
   "execution_count": 25,
   "id": "36ca067b",
   "metadata": {},
   "outputs": [
    {
     "data": {
      "text/plain": [
       "Gröbner basis with elements\n",
       "  1: k[2]*x[2] - k[1]\n",
       "  2: k[3]*x[1]*x[3] - k[1]\n",
       "with respect to the ordering\n",
       "  lex([x[1], x[3], x[2]])"
      ]
     },
     "metadata": {},
     "output_type": "display_data"
    }
   ],
   "source": [
    "f2 = get_oscar_steadystatesystem(retina_sn2)\n",
    "I2 = ideal(f2)\n",
    "x = gens(base_ring(I2))\n",
    "G2 = Oscar.groebner_basis(I2, ordering=lex([x[1],x[3],x[2]]),  complete_reduction = true)"
   ]
  },
  {
   "cell_type": "code",
   "execution_count": 23,
   "id": "9f5431c1",
   "metadata": {},
   "outputs": [
    {
     "data": {
      "text/latex": [
       "$$ \\begin{equation}\n",
       "\\frac{\\varphi}{\\lambda}\n",
       "\\end{equation}\n",
       " $$"
      ],
      "text/plain": [
       "φ / λ"
      ]
     },
     "metadata": {},
     "output_type": "display_data"
    }
   ],
   "source": [
    "setpoint_sn2 = (parameters(retina_sn2)[1]) / (parameters(retina_sn2)[2])"
   ]
  },
  {
   "cell_type": "code",
   "execution_count": 26,
   "id": "6d4075c0",
   "metadata": {},
   "outputs": [
    {
     "data": {
      "text/plain": [
       "Gröbner basis with elements\n",
       "  1: k[2]*x[2] - k[1]\n",
       "  2: k[3]*x[1]*x[3] - k[1]\n",
       "with respect to the ordering\n",
       "  lex([x[1], x[3], x[2]])"
      ]
     },
     "metadata": {},
     "output_type": "display_data"
    }
   ],
   "source": [
    "f3 = get_oscar_steadystatesystem(retina_sn3)\n",
    "I3 = ideal(f3)\n",
    "x = gens(base_ring(I3))\n",
    "G3 = Oscar.groebner_basis(I3,ordering=lex([x[1],x[3],x[2]]),  complete_reduction = true)"
   ]
  },
  {
   "cell_type": "code",
   "execution_count": 28,
   "id": "dc952ecf",
   "metadata": {},
   "outputs": [
    {
     "data": {
      "text/latex": [
       "$$ \\begin{equation}\n",
       "\\frac{\\beta}{\\kappa}\n",
       "\\end{equation}\n",
       " $$"
      ],
      "text/plain": [
       "β / κ"
      ]
     },
     "metadata": {},
     "output_type": "display_data"
    }
   ],
   "source": [
    "setpoint_SN3 = (parameters(retina_sn3)[1]) / (parameters(retina_sn3)[2])"
   ]
  },
  {
   "cell_type": "markdown",
   "id": "fcad5fe1",
   "metadata": {},
   "source": [
    "### Deficiency 3 subnetwork requires Oscar to find RPA polynomials"
   ]
  },
  {
   "cell_type": "code",
   "execution_count": 12,
   "id": "fa318fda",
   "metadata": {},
   "outputs": [
    {
     "data": {
      "text/latex": [
       "$$ \\begin{align*}\n",
       "\\mathrm{\\mathtt{Cp1}} &\\xrightarrow{\\mathtt{p11}} \\mathrm{\\mathtt{CO}} \\\\\n",
       "\\mathrm{\\mathtt{Cp}} &\\xrightarrow{\\mathtt{k5}} \\mathrm{\\mathtt{Ce}} \\\\\n",
       "\\mathrm{\\mathtt{Cp1}} &\\xrightarrow{\\mathtt{p5}} \\mathrm{\\mathtt{Ce1}} \\\\\n",
       "\\varnothing &\\xrightarrow{\\alpha} \\mathrm{H} \\\\\n",
       "\\varnothing &\\xrightarrow{\\omega} \\mathrm{\\mathtt{H1}} \\\\\n",
       "\\mathrm{H} + \\mathrm{\\mathtt{HR}} &\\xrightarrow{\\mathtt{k9}} \\mathrm{\\mathtt{HR}} + \\mathrm{\\mathtt{Ce}} \\\\\n",
       "\\mathrm{\\mathtt{H1}} + \\mathrm{\\mathtt{HR1}} &\\xrightarrow{\\mathtt{p12}} \\mathrm{\\mathtt{HR1}} + \\mathrm{\\mathtt{Ce1}} \\\\\n",
       "\\mathrm{\\mathtt{Cp}} + \\mathrm{\\mathtt{CO}} &\\xrightarrow{\\mathtt{k12}} \\mathrm{\\mathtt{Cg}} \\\\\n",
       "\\mathrm{\\mathtt{Ce}} + \\mathrm{\\mathtt{Cg}} &\\xrightarrow{\\mathtt{k22}} \\mathrm{B} \\\\\n",
       "\\mathrm{B} &\\xrightarrow{\\mathtt{k24}} \\varnothing \\\\\n",
       "\\mathrm{\\mathtt{Ce}} &\\xrightarrow{\\mathtt{k6}} \\mathrm{\\mathtt{Cp}} \\\\\n",
       "\\mathrm{\\mathtt{Ce1}} &\\xrightarrow{\\mathtt{p6}} \\mathrm{\\mathtt{Cp1}} \\\\\n",
       "\\mathrm{\\mathtt{Ce}} &\\xrightarrow{\\mathtt{k21}} \\varnothing \\\\\n",
       "\\mathrm{\\mathtt{Ce1}} &\\xrightarrow{\\mathtt{p15}} \\varnothing  \n",
       " \\end{align*}\n",
       " $$"
      ],
      "text/plain": [
       "\u001b[0m\u001b[1mModel Retina_SN23:\u001b[22m\n",
       "\u001b[0m\u001b[1mUnknowns (11):\u001b[22m see unknowns(Retina_SN23)\n",
       "  Cp1(t)\n",
       "  CO(t)\n",
       "  Cp(t)\n",
       "  Ce(t)\n",
       "\u001b[0m  ⋮\n",
       "\u001b[0m\u001b[1mParameters (14):\u001b[22m see parameters(Retina_SN23)\n",
       "  p11\n",
       "  k5\n",
       "  p5\n",
       "  α\n",
       "\u001b[0m  ⋮"
      ]
     },
     "metadata": {},
     "output_type": "display_data"
    }
   ],
   "source": [
    "retina_sn23 = include(\"retina/Retina_SN23.jl\")"
   ]
  },
  {
   "cell_type": "code",
   "execution_count": 27,
   "id": "0b9fc477",
   "metadata": {},
   "outputs": [
    {
     "data": {
      "text/plain": [
       "14-element Vector{Any}:\n",
       " p11\n",
       " k5\n",
       " p5\n",
       " α\n",
       " ω\n",
       " k9\n",
       " p12\n",
       " k12\n",
       " k22\n",
       " k24\n",
       " k6\n",
       " p6\n",
       " k21\n",
       " p15"
      ]
     },
     "metadata": {},
     "output_type": "display_data"
    }
   ],
   "source": [
    "parms23 = parameters(retina_sn23)"
   ]
  },
  {
   "cell_type": "markdown",
   "id": "d0d8518d",
   "metadata": {},
   "source": [
    "### Projecting onto species 1 and 6"
   ]
  },
  {
   "cell_type": "code",
   "execution_count": 34,
   "id": "b285cd6c",
   "metadata": {},
   "outputs": [
    {
     "data": {
      "text/plain": [
       "Gröbner basis with elements\n",
       "  1: (k[1]*k[12] + k[1]*k[14] + k[3]*k[14])*x[1] - k[5]*k[12]\n",
       "  2: k[6]*x[6]*x[8] - k[4]\n",
       "  3: k[7]*x[7]*x[9] - k[5]\n",
       "  4: (k[1]*k[12]*k[13] + k[1]*k[13]*k[14] + k[3]*k[13]*k[14])*x[4] - k[1]*k[4]*k[12] - k[1]*k[4]*k[14] + 2*k[1]*k[5]*k[12] - k[3]*k[4]*k[14]\n",
       "  5: (k[1]*k[10]*k[12] + k[1]*k[10]*k[14] + k[3]*k[10]*k[14])*x[11] - k[1]*k[5]*k[12]\n",
       "  6: (k[1]*k[4]*k[9]*k[12] + k[1]*k[4]*k[9]*k[14] - 2*k[1]*k[5]*k[9]*k[12] + k[3]*k[4]*k[9]*k[14])*x[10] - k[1]*k[5]*k[12]*k[13]\n",
       "  7: (k[1]*k[2]*k[12]*k[13] + k[1]*k[2]*k[13]*k[14] + k[2]*k[3]*k[13]*k[14])*x[3] - k[1]*k[4]*k[11]*k[12] - k[1]*k[4]*k[11]*k[14] + 2*k[1]*k[5]*k[11]*k[12] + k[1]*k[5]*k[12]*k[13] - k[3]*k[4]*k[11]*k[14]\n",
       "  8: (k[1]*k[4]*k[8]*k[11]*k[12] + k[1]*k[4]*k[8]*k[11]*k[14] - 2*k[1]*k[5]*k[8]*k[11]*k[12] - k[1]*k[5]*k[8]*k[12]*k[13] + k[3]*k[4]*k[8]*k[11]*k[14])*x[2] - k[1]*k[2]*k[5]*k[12]*k[13]\n",
       "  9: (k[1]*k[12] + k[1]*k[14] + k[3]*k[14])*x[5] - k[1]*k[5] - k[3]*k[5]\n",
       "with respect to the ordering\n",
       "  lex([x[5], x[2], x[3], x[10], x[11], x[4], x[7], x[8], x[9], x[6], x[1]])"
      ]
     },
     "metadata": {},
     "output_type": "display_data"
    }
   ],
   "source": [
    "f23 = get_oscar_steadystatesystem(retina_sn23)\n",
    "I23 = ideal(f23)\n",
    "x = gens(base_ring(I23))\n",
    "G23 = Oscar.groebner_basis(I23,ordering=lex([x[5],x[2],x[3],x[10],x[11],x[4],x[7],x[8],x[9],x[6],x[1]]),  complete_reduction = true) #should be same information"
   ]
  },
  {
   "cell_type": "code",
   "execution_count": 30,
   "id": "88260612",
   "metadata": {},
   "outputs": [
    {
     "data": {
      "text/latex": [
       "$$ \\begin{equation}\n",
       "\\frac{\\mathtt{p6} \\omega}{\\mathtt{p11} \\mathtt{p15} + \\mathtt{p11} \\mathtt{p6} + \\mathtt{p15} \\mathtt{p5}}\n",
       "\\end{equation}\n",
       " $$"
      ],
      "text/plain": [
       "(p6*ω) / (p11*p15 + p11*p6 + p15*p5)"
      ]
     },
     "metadata": {},
     "output_type": "display_data"
    }
   ],
   "source": [
    "(parms23[5]*parms23[12])/(parms23[1]*parms23[12] + parms23[1]*parms23[14] + parms23[3]*parms23[14])\n",
    "###FIXME Note this currently doesn't match the setpoint calculated in the paper- need to check this"
   ]
  },
  {
   "cell_type": "markdown",
   "id": "4d7867d6",
   "metadata": {},
   "source": [
    "### Projecting onto species 2 and 6"
   ]
  },
  {
   "cell_type": "code",
   "execution_count": 35,
   "id": "7e08fc66",
   "metadata": {},
   "outputs": [
    {
     "data": {
      "text/plain": [
       "Gröbner basis with elements\n",
       "  1: (k[1]*k[4]*k[8]*k[11]*k[12] + k[1]*k[4]*k[8]*k[11]*k[14] - 2*k[1]*k[5]*k[8]*k[11]*k[12] - k[1]*k[5]*k[8]*k[12]*k[13] + k[3]*k[4]*k[8]*k[11]*k[14])*x[2] - k[1]*k[2]*k[5]*k[12]*k[13]\n",
       "  2: k[6]*x[6]*x[8] - k[4]\n",
       "  3: k[7]*x[7]*x[9] - k[5]\n",
       "  4: (k[1]*k[12]*k[13] + k[1]*k[13]*k[14] + k[3]*k[13]*k[14])*x[4] - k[1]*k[4]*k[12] - k[1]*k[4]*k[14] + 2*k[1]*k[5]*k[12] - k[3]*k[4]*k[14]\n",
       "  5: (k[1]*k[10]*k[12] + k[1]*k[10]*k[14] + k[3]*k[10]*k[14])*x[11] - k[1]*k[5]*k[12]\n",
       "  6: (k[1]*k[4]*k[9]*k[12] + k[1]*k[4]*k[9]*k[14] - 2*k[1]*k[5]*k[9]*k[12] + k[3]*k[4]*k[9]*k[14])*x[10] - k[1]*k[5]*k[12]*k[13]\n",
       "  7: (k[1]*k[2]*k[12]*k[13] + k[1]*k[2]*k[13]*k[14] + k[2]*k[3]*k[13]*k[14])*x[3] - k[1]*k[4]*k[11]*k[12] - k[1]*k[4]*k[11]*k[14] + 2*k[1]*k[5]*k[11]*k[12] + k[1]*k[5]*k[12]*k[13] - k[3]*k[4]*k[11]*k[14]\n",
       "  8: (k[1]*k[12] + k[1]*k[14] + k[3]*k[14])*x[1] - k[5]*k[12]\n",
       "  9: (k[1]*k[12] + k[1]*k[14] + k[3]*k[14])*x[5] - k[1]*k[5] - k[3]*k[5]\n",
       "with respect to the ordering\n",
       "  lex([x[5], x[1], x[3], x[10], x[11], x[4], x[7], x[8], x[9], x[6], x[2]])"
      ]
     },
     "metadata": {},
     "output_type": "display_data"
    }
   ],
   "source": [
    "G23 = Oscar.groebner_basis(I23,ordering=lex([x[5],x[1],x[3],x[10],x[11],x[4],x[7],x[8],x[9],x[6],x[2]]),  complete_reduction = true) #should be same information"
   ]
  },
  {
   "cell_type": "code",
   "execution_count": 36,
   "id": "7321ebc0",
   "metadata": {},
   "outputs": [
    {
     "data": {
      "text/latex": [
       "$$ \\begin{equation}\n",
       "\\frac{\\mathtt{k21} \\mathtt{k5} \\mathtt{p11} \\mathtt{p6} \\omega}{ - \\mathtt{k12} \\mathtt{k21} \\mathtt{p11} \\mathtt{p6} \\omega + \\mathtt{k12} \\mathtt{k6} \\mathtt{p11} \\mathtt{p15} \\alpha + \\mathtt{k12} \\mathtt{k6} \\mathtt{p11} \\mathtt{p6} \\alpha - 2 \\mathtt{k12} \\mathtt{k6} \\mathtt{p11} \\mathtt{p6} \\omega + \\mathtt{k12} \\mathtt{k6} \\mathtt{p15} \\mathtt{p5} \\alpha}\n",
       "\\end{equation}\n",
       " $$"
      ],
      "text/plain": [
       "(k21*k5*p11*p6*ω) / (-k12*k21*p11*p6*ω + k12*k6*p11*p15*α + k12*k6*p11*p6*α - 2k12*k6*p11*p6*ω + k12*k6*p15*p5*α)"
      ]
     },
     "metadata": {},
     "output_type": "display_data"
    }
   ],
   "source": [
    "(parms23[1]*parms23[2]*parms23[5]*parms23[12]*parms23[13]) / (parms23[1]*parms23[4]*parms23[8]*parms23[11]*parms23[12] + parms23[1]*parms23[4]*parms23[8]*parms23[11]*parms23[14] - 2*parms23[1]*parms23[5]*parms23[8]*parms23[11]*parms23[12] - parms23[1]*parms23[5]*parms23[8]*parms23[12]*parms23[13] + parms23[3]*parms23[4]*parms23[8]*parms23[11]*parms23[14])"
   ]
  }
 ],
 "metadata": {
  "kernelspec": {
   "display_name": "Julia 1.11.7",
   "language": "julia",
   "name": "julia-1.11"
  },
  "language_info": {
   "file_extension": ".jl",
   "mimetype": "application/julia",
   "name": "julia",
   "version": "1.11.7"
  }
 },
 "nbformat": 4,
 "nbformat_minor": 5
}
