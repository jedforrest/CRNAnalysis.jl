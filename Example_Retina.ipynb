{
 "cells": [
  {
   "cell_type": "markdown",
   "id": "e1b0f73d",
   "metadata": {},
   "source": [
    "## Example analysis on CRN for cholesterol regulation in Retina"
   ]
  },
  {
   "cell_type": "markdown",
   "id": "1ad6def4",
   "metadata": {},
   "source": [
    "### Include relevant functions and files"
   ]
  },
  {
   "cell_type": "code",
   "execution_count": null,
   "id": "a891735c",
   "metadata": {},
   "outputs": [
    {
     "data": {
      "text/latex": [
       "$$ \\begin{align*}\n",
       "\\varnothing &\\xrightarrow{\\mu} \\mathrm{\\mathtt{Sci}} \\\\\n",
       "\\varnothing &\\xrightarrow{\\varphi} \\mathrm{\\mathtt{Sci1}} \\\\\n",
       "\\varnothing &\\xrightarrow{\\beta} \\mathrm{\\mathtt{Sci2}} \\\\\n",
       "\\mathrm{\\mathtt{Ce}} &\\xrightarrow{\\theta} \\mathrm{\\mathtt{Ce}} + \\mathrm{C} \\\\\n",
       "\\mathrm{\\mathtt{Ce1}} &\\xrightarrow{\\lambda} \\mathrm{\\mathtt{Ce1}} + \\mathrm{\\mathtt{C1}} \\\\\n",
       "\\mathrm{\\mathtt{Ce2}} &\\xrightarrow{\\kappa} \\mathrm{\\mathtt{Ce2}} + \\mathrm{\\mathtt{C2}} \\\\\n",
       "\\mathrm{\\mathtt{Sci}} + \\mathrm{C} &\\xrightarrow{\\eta} \\varnothing \\\\\n",
       "\\mathrm{\\mathtt{Sci1}} + \\mathrm{\\mathtt{C1}} &\\xrightarrow{\\psi} \\varnothing \\\\\n",
       "\\mathrm{\\mathtt{Sci2}} + \\mathrm{\\mathtt{C2}} &\\xrightarrow{\\varepsilon} \\varnothing \\\\\n",
       "\\mathrm{\\mathtt{Sci}} &\\xrightarrow{\\mathtt{k1}} \\mathrm{\\mathtt{Sci}} + \\mathrm{\\mathtt{Sr}} + \\mathrm{\\mathtt{Sh}} + \\mathrm{\\mathtt{Sp}} + \\mathrm{\\mathtt{Sb}} \\\\\n",
       "\\mathrm{\\mathtt{Sci1}} &\\xrightarrow{\\mathtt{p1}} \\mathrm{\\mathtt{Sci1}} + \\mathrm{\\mathtt{Sb1}} + \\mathrm{\\mathtt{Sh1}} \\\\\n",
       "\\mathrm{\\mathtt{Sci2}} &\\xrightarrow{\\mathtt{p26}} \\mathrm{\\mathtt{Sci2}} + \\mathrm{\\mathtt{Sh2}} + \\mathrm{\\mathtt{Sr2}} + \\mathrm{\\mathtt{Sp2}} \\\\\n",
       "\\mathrm{\\mathtt{Sr}} &\\xrightarrow{\\mathtt{k17}} \\mathrm{\\mathtt{Sr}} + \\mathrm{R} \\\\\n",
       "\\mathrm{\\mathtt{Sr2}} &\\xrightarrow{\\mathtt{p33}} \\mathrm{\\mathtt{Sr2}} + \\mathrm{\\mathtt{R2}} \\\\\n",
       "\\mathrm{\\mathtt{Sh}} &\\xrightarrow{\\mathtt{k18}} \\mathrm{\\mathtt{Sh}} + \\mathrm{\\mathtt{HR}} \\\\\n",
       "\\mathrm{\\mathtt{Sh1}} &\\xrightarrow{\\mathtt{p7}} \\mathrm{\\mathtt{Sh1}} + \\mathrm{\\mathtt{HR1}} \\\\\n",
       "\\mathrm{\\mathtt{Sh2}} &\\xrightarrow{\\mathtt{p19}} \\mathrm{\\mathtt{Sh2}} + \\mathrm{\\mathtt{HR2}} \\\\\n",
       "\\mathrm{\\mathtt{Sp}} &\\xrightarrow{\\mathtt{k19}} \\mathrm{\\mathtt{Sp}} + \\mathrm{P} \\\\\n",
       "\\mathrm{\\mathtt{Sp2}} &\\xrightarrow{\\mathtt{p37}} \\mathrm{\\mathtt{Sp2}} + \\mathrm{\\mathtt{P2}} \\\\\n",
       "\\mathrm{\\mathtt{Sb}} &\\xrightarrow{\\mathtt{k28}} \\mathrm{\\mathtt{Sb}} + \\mathrm{\\mathtt{Rb}} \\\\\n",
       "\\mathrm{\\mathtt{Sb1}} &\\xrightarrow{\\mathtt{p9}} \\mathrm{\\mathtt{Sb1}} + \\mathrm{\\mathtt{Rb1}} \\\\\n",
       "\\mathrm{\\mathtt{Sr}} &\\xrightarrow{\\mathtt{k2}} \\varnothing \\\\\n",
       "\\mathrm{\\mathtt{Sr2}} &\\xrightarrow{\\mathtt{p32}} \\varnothing \\\\\n",
       "\\mathrm{\\mathtt{Sh}} &\\xrightarrow{\\mathtt{k10}} \\varnothing \\\\\n",
       "\\mathrm{\\mathtt{Sh1}} &\\xrightarrow{\\mathtt{p3}} \\varnothing \\\\\n",
       "\\mathrm{\\mathtt{Sh2}} &\\xrightarrow{\\mathtt{p18}} \\varnothing \\\\\n",
       "\\mathrm{\\mathtt{Sp}} &\\xrightarrow{\\mathtt{k13}} \\varnothing \\\\\n",
       "\\mathrm{\\mathtt{Sp2}} &\\xrightarrow{\\mathtt{p31}} \\varnothing \\\\\n",
       "\\mathrm{\\mathtt{Sb}} &\\xrightarrow{\\mathtt{k27}} \\varnothing \\\\\n",
       "\\mathrm{\\mathtt{Sb1}} &\\xrightarrow{\\mathtt{p2}} \\varnothing \\\\\n",
       "\\mathrm{R} + \\mathrm{\\mathtt{CL}} &\\xrightarrow{\\mathtt{k3}} \\mathrm{R} + \\mathrm{\\mathtt{Cf}} \\\\\n",
       "\\mathrm{\\mathtt{R2}} + \\mathrm{\\mathtt{CL2}} &\\xrightarrow{\\mathtt{p34}} \\mathrm{\\mathtt{R2}} + \\mathrm{\\mathtt{Cf2}} \\\\\n",
       "\\mathrm{\\mathtt{Rb}} + \\mathrm{\\mathtt{CH}} &\\xrightarrow{\\mathtt{k26}} \\mathrm{\\mathtt{Rb}} + \\mathrm{\\mathtt{Cf}} \\\\\n",
       "\\mathrm{\\mathtt{Rb1}} + \\mathrm{\\mathtt{CH1}} &\\xrightarrow{\\mathtt{p25}} \\mathrm{\\mathtt{Rb1}} + \\mathrm{\\mathtt{Cf1}} \\\\\n",
       "\\mathrm{R} &\\xrightarrow{\\mathtt{k11}} \\varnothing \\\\\n",
       "\\mathrm{\\mathtt{R2}} &\\xrightarrow{\\mathtt{p35}} \\varnothing \\\\\n",
       "\\mathrm{\\mathtt{Rb}} &\\xrightarrow{\\mathtt{k29}} \\varnothing \\\\\n",
       "\\mathrm{\\mathtt{Rb1}} &\\xrightarrow{\\mathtt{p10}} \\varnothing \\\\\n",
       "\\mathrm{P} + \\mathrm{R} &\\xrightarrow{\\mathtt{k14}} \\mathrm{P} \\\\\n",
       "\\mathrm{P} &\\xrightarrow{\\mathtt{k16}} \\varnothing \\\\\n",
       "\\mathrm{\\mathtt{P2}} + \\mathrm{\\mathtt{R2}} &\\xrightarrow{\\mathtt{p39}} \\mathrm{\\mathtt{P2}} \\\\\n",
       "\\mathrm{\\mathtt{P2}} &\\xrightarrow{\\mathtt{p38}} \\varnothing \\\\\n",
       "\\mathrm{\\mathtt{Cf}} &\\xrightarrow{\\mathtt{k4}} \\mathrm{\\mathtt{Cp}} \\\\\n",
       "\\mathrm{\\mathtt{Cf1}} &\\xrightarrow{\\mathtt{p4}} \\mathrm{\\mathtt{Cp1}} \\\\\n",
       "\\mathrm{\\mathtt{Cf2}} &\\xrightarrow{\\mathtt{p36}} \\mathrm{\\mathtt{Cp2}} \\\\\n",
       "\\mathrm{\\mathtt{Cp1}} &\\xrightarrow{\\mathtt{p11}} \\mathrm{\\mathtt{CO}} \\\\\n",
       "\\mathrm{\\mathtt{Cp}} &\\xrightleftharpoons[\\mathtt{k6}]{\\mathtt{k5}} \\mathrm{\\mathtt{Ce}} \\\\\n",
       "\\mathrm{\\mathtt{Cp1}} &\\xrightleftharpoons[\\mathtt{p6}]{\\mathtt{p5}} \\mathrm{\\mathtt{Ce1}} \\\\\n",
       "\\mathrm{\\mathtt{Cp2}} &\\xrightleftharpoons[\\mathtt{p29}]{\\mathtt{p28}} \\mathrm{\\mathtt{Ce2}} \\\\\n",
       "\\mathrm{\\mathtt{Ce}} &\\xrightleftharpoons[\\mathtt{k8}]{\\mathtt{k7}} \\mathrm{E} \\\\\n",
       "\\mathrm{\\mathtt{Ce1}} &\\xrightleftharpoons[\\mathtt{p17}]{\\mathtt{p16}} \\mathrm{\\mathtt{E1}} \\\\\n",
       "\\varnothing &\\xrightarrow{\\alpha} \\mathrm{H} \\\\\n",
       "\\varnothing &\\xrightarrow{\\omega} \\mathrm{\\mathtt{H1}} \\\\\n",
       "\\varnothing &\\xrightarrow{\\delta} \\mathrm{\\mathtt{H2}} \\\\\n",
       "\\mathrm{H} + \\mathrm{\\mathtt{HR}} &\\xrightarrow{\\mathtt{k9}} \\mathrm{\\mathtt{HR}} + \\mathrm{\\mathtt{Ce}} \\\\\n",
       "\\mathrm{\\mathtt{H1}} + \\mathrm{\\mathtt{HR1}} &\\xrightarrow{\\mathtt{p12}} \\mathrm{\\mathtt{HR1}} + \\mathrm{\\mathtt{Ce1}} \\\\\n",
       "\\mathrm{\\mathtt{H2}} + \\mathrm{\\mathtt{HR2}} &\\xrightarrow{\\mathtt{p21}} \\mathrm{\\mathtt{HR2}} + \\mathrm{\\mathtt{Ce2}} \\\\\n",
       "\\mathrm{\\mathtt{Ce}} + \\mathrm{\\mathtt{HR}} &\\xrightarrow{\\mathtt{k15}} \\mathrm{\\mathtt{Ce}} \\\\\n",
       "\\mathrm{\\mathtt{Ce2}} + \\mathrm{\\mathtt{HR2}} &\\xrightarrow{\\mathtt{p20}} \\mathrm{\\mathtt{Ce2}} \\\\\n",
       "\\mathrm{\\mathtt{Cp}} + \\mathrm{\\mathtt{CO}} &\\xrightarrow{\\mathtt{k12}} \\mathrm{\\mathtt{Cg}} \\\\\n",
       "\\mathrm{\\mathtt{Ce}} &\\xrightarrow{\\mathtt{k21}} \\varnothing \\\\\n",
       "\\mathrm{\\mathtt{Ce1}} &\\xrightarrow{\\mathtt{p15}} \\varnothing \\\\\n",
       "\\mathrm{\\mathtt{Ce2}} &\\xrightarrow{\\mathtt{p13}} \\varnothing \\\\\n",
       "\\mathrm{\\mathtt{Ce}} + \\mathrm{\\mathtt{Cg}} &\\xrightarrow{\\mathtt{k22}} \\mathrm{B} \\\\\n",
       "\\mathrm{B} &\\xrightarrow{\\mathtt{k24}} \\varnothing  \n",
       " \\end{align*}\n",
       " $$"
      ],
      "text/plain": [
       "\u001b[0m\u001b[1mModel ##ReactionSystem#453:\u001b[22m\n",
       "\u001b[0m\u001b[1mUnknowns (45):\u001b[22m see unknowns(##ReactionSystem#453)\n",
       "  Sci(t)\n",
       "  Sci1(t)\n",
       "  Sci2(t)\n",
       "  Ce(t)\n",
       "\u001b[0m  ⋮\n",
       "\u001b[0m\u001b[1mParameters (70):\u001b[22m see parameters(##ReactionSystem#453)\n",
       "  μ\n",
       "  φ\n",
       "  β\n",
       "  θ\n",
       "\u001b[0m  ⋮"
      ]
     },
     "metadata": {},
     "output_type": "display_data"
    }
   ],
   "source": [
    "include(\"generate_subnet_files.jl\")\n",
    "include(\"independent_decomposition.jl\")\n",
    "include(\"rowspan_polynomials.jl\")\n",
    "include(\"get_Oscar_SteadyStatesystem.jl\")\n",
    "include(\"Retina.jl\") # ensure the reaction system name and the file name are the same\n"
   ]
  },
  {
   "cell_type": "markdown",
   "id": "bdc44dde",
   "metadata": {},
   "source": [
    "### Run the decomposition and generate the subnetworks"
   ]
  },
  {
   "cell_type": "code",
   "execution_count": null,
   "id": "d2326f02",
   "metadata": {},
   "outputs": [
    {
     "name": "stdout",
     "output_type": "stream",
     "text": [
      "A finer network decomposition exists\n",
      "The number of independent subnetworks is:\n",
      "Subnetwork 1: [1, 4, 7]\n",
      "Subnetwork 2: [2, 5, 8]\n",
      "Subnetwork 3: [3, 6, 9]\n",
      "Subnetwork 4: [10, 22, 24, 27, 29]\n",
      "Subnetwork 5: [11, 25, 30]\n",
      "Subnetwork 6: [12, 23, 26, 28]\n",
      "Subnetwork 7: [13, 35, 39]\n",
      "Subnetwork 8: [14, 36, 41]\n",
      "Subnetwork 9: [15, 63]\n",
      "Subnetwork 10: [16]\n",
      "Subnetwork 11: [17, 64]\n",
      "Subnetwork 12: [18, 40]\n",
      "Subnetwork 13: [19, 42]\n",
      "Subnetwork 14: [20, 37]\n",
      "Subnetwork 15: [21, 38]\n",
      "Subnetwork 16: [31]\n",
      "Subnetwork 17: [32]\n",
      "Subnetwork 18: [33]\n",
      "Subnetwork 19: [34]\n",
      "Subnetwork 20: [43]\n",
      "Subnetwork 21: [44]\n",
      "Subnetwork 22: [45]\n",
      "Subnetwork 23: [46, 47, 49, 57, 58, 60, 61, 65, 69, 70, 48, 50, 66, 67]\n",
      "Subnetwork 24: [51, 52]\n",
      "Subnetwork 25: [53, 54]\n",
      "Subnetwork 26: [55, 56]\n",
      "Subnetwork 27: [59, 62, 68]\n"
     ]
    },
    {
     "data": {
      "text/plain": [
       "27"
      ]
     },
     "metadata": {},
     "output_type": "display_data"
    }
   ],
   "source": [
    "generate_subnet_files(:Retina) # this function takes input (:reactionsystem_name)"
   ]
  },
  {
   "cell_type": "markdown",
   "id": "11078f3f",
   "metadata": {},
   "source": [
    "### Preliminary subnetwork anlalysis"
   ]
  },
  {
   "cell_type": "code",
   "execution_count": null,
   "id": "9c0694c5",
   "metadata": {},
   "outputs": [
    {
     "data": {
      "text/latex": [
       "$$ \\begin{align*}\n",
       "\\varnothing &\\xrightarrow{\\mu} \\mathrm{\\mathtt{Sci}} \\\\\n",
       "\\mathrm{\\mathtt{Ce}} &\\xrightarrow{\\theta} \\mathrm{\\mathtt{Ce}} + \\mathrm{C} \\\\\n",
       "\\mathrm{\\mathtt{Sci}} + \\mathrm{C} &\\xrightarrow{\\eta} \\varnothing  \n",
       " \\end{align*}\n",
       " $$"
      ],
      "text/plain": [
       "\u001b[0m\u001b[1mModel subnet:\u001b[22m\n",
       "\u001b[0m\u001b[1mUnknowns (3):\u001b[22m see unknowns(subnet)\n",
       "  Sci(t)\n",
       "  Ce(t)\n",
       "  C(t)\n",
       "\u001b[0m\u001b[1mParameters (3):\u001b[22m see parameters(subnet)\n",
       "  μ\n",
       "  θ\n",
       "  η"
      ]
     },
     "metadata": {},
     "output_type": "display_data"
    }
   ],
   "source": [
    "include(\"Retina_SN1.jl\") "
   ]
  },
  {
   "cell_type": "code",
   "execution_count": null,
   "id": "0eeb1d99",
   "metadata": {},
   "outputs": [
    {
     "data": {
      "text/plain": [
       "1"
      ]
     },
     "metadata": {},
     "output_type": "display_data"
    }
   ],
   "source": [
    "deficiency(Retina_SN1)"
   ]
  },
  {
   "cell_type": "markdown",
   "id": "f31e2acb",
   "metadata": {},
   "source": [
    "### Catalyst can identify RPA-capable species in a deficiency 1 network"
   ]
  },
  {
   "cell_type": "code",
   "execution_count": 32,
   "id": "9c708b42",
   "metadata": {},
   "outputs": [
    {
     "data": {
      "text/plain": [
       "1-element Vector{SymbolicUtils.BasicSymbolic{Real}}:\n",
       " Ce(t)"
      ]
     },
     "metadata": {},
     "output_type": "display_data"
    }
   ],
   "source": [
    "species(Retina_SN1)[Catalyst.robustspecies(Retina_SN1)]"
   ]
  },
  {
   "cell_type": "markdown",
   "id": "0b561dfe",
   "metadata": {},
   "source": [
    "### Find the coefficients for a rowspan polynomial for subnetwork 1 involving the first and third complexes"
   ]
  },
  {
   "cell_type": "code",
   "execution_count": null,
   "id": "2b23e940",
   "metadata": {},
   "outputs": [
    {
     "data": {
      "text/latex": [
       "$$ \\begin{equation}\n",
       "\\left[\n",
       "\\begin{array}{ccccc}\n",
       "\\frac{ - \\mu}{\\theta} & 0 & 1 & 0 & 0 \\\\\n",
       "\\end{array}\n",
       "\\right]\n",
       "\\end{equation}\n",
       " $$"
      ],
      "text/plain": [
       "1×5 Matrix{Num}:\n",
       " (-μ) / θ  0  1  0  0"
      ]
     },
     "metadata": {},
     "output_type": "display_data"
    }
   ],
   "source": [
    "rowspan_invariants(Retina_SN1, [1, 3])"
   ]
  },
  {
   "cell_type": "markdown",
   "id": "7e673f13",
   "metadata": {},
   "source": [
    "### Multiply the polynomial coefficients by the mass action vector to get the RPA equation for subnetwork 1"
   ]
  },
  {
   "cell_type": "code",
   "execution_count": null,
   "id": "5bc78187",
   "metadata": {},
   "outputs": [
    {
     "data": {
      "text/latex": [
       "$$ \\begin{equation}\n",
       "\\left[\n",
       "\\begin{array}{c}\n",
       "\\frac{ - \\mu}{\\theta} + \\mathtt{Ce}\\left( t \\right) \\\\\n",
       "\\end{array}\n",
       "\\right]\n",
       "\\end{equation}\n",
       " $$"
      ],
      "text/plain": [
       "1-element Vector{Num}:\n",
       " (-μ) / θ + Ce(t)"
      ]
     },
     "metadata": {},
     "output_type": "display_data"
    }
   ],
   "source": [
    "rowspan_invariants(Retina_SN1, [1, 3]) * massactionvector(Retina_SN1)"
   ]
  },
  {
   "cell_type": "markdown",
   "id": "5c32bdc2",
   "metadata": {},
   "source": [
    "### Load remaing subnetwork files"
   ]
  },
  {
   "cell_type": "code",
   "execution_count": null,
   "id": "34f9a5fa",
   "metadata": {},
   "outputs": [],
   "source": [
    "for i in 1:27\n",
    "    include(\"Retina_SN$(i).jl\")\n",
    "end"
   ]
  },
  {
   "cell_type": "markdown",
   "id": "58e92139",
   "metadata": {},
   "source": [
    "### Find rowspan polynomials of remaining deficiency 1 subnetworks"
   ]
  },
  {
   "cell_type": "code",
   "execution_count": null,
   "id": "b070979b",
   "metadata": {},
   "outputs": [
    {
     "data": {
      "text/latex": [
       "$$ \\begin{equation}\n",
       "\\left[\n",
       "\\begin{array}{ccccc}\n",
       "\\frac{ - \\varphi}{\\lambda} & 0 & 1 & 0 & 0 \\\\\n",
       "\\end{array}\n",
       "\\right]\n",
       "\\end{equation}\n",
       " $$"
      ],
      "text/plain": [
       "1×5 Matrix{Num}:\n",
       " (-φ) / λ  0  1  0  0"
      ]
     },
     "metadata": {},
     "output_type": "display_data"
    }
   ],
   "source": [
    "rowspan_polynomials(Retina_SN2, [1, 3])"
   ]
  },
  {
   "cell_type": "code",
   "execution_count": 9,
   "id": "ba055258",
   "metadata": {},
   "outputs": [
    {
     "data": {
      "text/latex": [
       "$$ \\begin{equation}\n",
       "\\left[\n",
       "\\begin{array}{c}\n",
       "\\frac{ - \\varphi}{\\lambda} + \\mathtt{Ce1}\\left( t \\right) \\\\\n",
       "\\end{array}\n",
       "\\right]\n",
       "\\end{equation}\n",
       " $$"
      ],
      "text/plain": [
       "1-element Vector{Num}:\n",
       " (-φ) / λ + Ce1(t)"
      ]
     },
     "metadata": {},
     "output_type": "display_data"
    }
   ],
   "source": [
    "rowspan_invariants(Retina_SN2, [1, 3]) * massactionvector(Retina_SN2)"
   ]
  },
  {
   "cell_type": "code",
   "execution_count": 20,
   "id": "a96ebe46",
   "metadata": {},
   "outputs": [
    {
     "data": {
      "text/latex": [
       "$$ \\begin{equation}\n",
       "\\left[\n",
       "\\begin{array}{ccccc}\n",
       "\\frac{ - \\beta}{\\kappa} & 0 & 1 & 0 & 0 \\\\\n",
       "\\end{array}\n",
       "\\right]\n",
       "\\end{equation}\n",
       " $$"
      ],
      "text/plain": [
       "1×5 Matrix{Num}:\n",
       " (-β) / κ  0  1  0  0"
      ]
     },
     "metadata": {},
     "output_type": "display_data"
    }
   ],
   "source": [
    "rowspan_invariants(Retina_SN3, [1, 3])"
   ]
  },
  {
   "cell_type": "code",
   "execution_count": 19,
   "id": "7ec6a83d",
   "metadata": {},
   "outputs": [
    {
     "data": {
      "text/latex": [
       "$$ \\begin{equation}\n",
       "\\left[\n",
       "\\begin{array}{c}\n",
       "\\frac{ - \\beta}{\\kappa} + \\mathtt{Ce2}\\left( t \\right) \\\\\n",
       "\\end{array}\n",
       "\\right]\n",
       "\\end{equation}\n",
       " $$"
      ],
      "text/plain": [
       "1-element Vector{Num}:\n",
       " (-β) / κ + Ce2(t)"
      ]
     },
     "metadata": {},
     "output_type": "display_data"
    }
   ],
   "source": [
    "rowspan_invariants(Retina_SN3, [1, 3]) * massactionvector(Retina_SN3)"
   ]
  },
  {
   "cell_type": "markdown",
   "id": "876842ed",
   "metadata": {},
   "source": [
    "### Oscar can also be used to find polynomials in both the rowspan and the ideal of the rate equations"
   ]
  },
  {
   "cell_type": "code",
   "execution_count": 31,
   "id": "958a9878",
   "metadata": {},
   "outputs": [
    {
     "data": {
      "text/plain": [
       "Gröbner basis with elements\n",
       "  1: k[2]*x[2] - k[1]\n",
       "  2: k[3]*x[1]*x[3] - k[1]\n",
       "with respect to the ordering\n",
       "  lex([x[1], x[3], x[2]])"
      ]
     },
     "metadata": {},
     "output_type": "display_data"
    }
   ],
   "source": [
    "f1 = get_Oscar_SteadyStatesystem(Retina_SN1)\n",
    "I1 = ideal(f1)\n",
    "G1 = Oscar.groebner_basis(I1,ordering=lex([x[1],x[3],x[2]]),  complete_reduction = true)"
   ]
  },
  {
   "cell_type": "code",
   "execution_count": 33,
   "id": "d388ae18",
   "metadata": {},
   "outputs": [
    {
     "data": {
      "text/latex": [
       "$$ \\begin{equation}\n",
       "\\frac{\\mu}{\\theta}\n",
       "\\end{equation}\n",
       " $$"
      ],
      "text/plain": [
       "μ / θ"
      ]
     },
     "metadata": {},
     "output_type": "display_data"
    }
   ],
   "source": [
    "setpoint_SN1 = (parameters(Retina_SN1)[1]) / (parameters(Retina_SN1)[2])"
   ]
  },
  {
   "cell_type": "code",
   "execution_count": 34,
   "id": "36ca067b",
   "metadata": {},
   "outputs": [
    {
     "data": {
      "text/plain": [
       "Gröbner basis with elements\n",
       "  1: k[2]*x[2] - k[1]\n",
       "  2: k[3]*x[1]*x[3] - k[1]\n",
       "with respect to the ordering\n",
       "  lex([x[1], x[3], x[2]])"
      ]
     },
     "metadata": {},
     "output_type": "display_data"
    }
   ],
   "source": [
    "f2 = get_Oscar_SteadyStatesystem(Retina_SN2)\n",
    "I2 = ideal(f2)\n",
    "G2 = Oscar.groebner_basis(I2,ordering=lex([x[1],x[3],x[2]]),  complete_reduction = true)"
   ]
  },
  {
   "cell_type": "code",
   "execution_count": 35,
   "id": "9f5431c1",
   "metadata": {},
   "outputs": [
    {
     "data": {
      "text/latex": [
       "$$ \\begin{equation}\n",
       "\\frac{\\varphi}{\\lambda}\n",
       "\\end{equation}\n",
       " $$"
      ],
      "text/plain": [
       "φ / λ"
      ]
     },
     "metadata": {},
     "output_type": "display_data"
    }
   ],
   "source": [
    "setpoint_SN2 = (parameters(Retina_SN2)[1]) / (parameters(Retina_SN2)[2])"
   ]
  },
  {
   "cell_type": "code",
   "execution_count": 36,
   "id": "6d4075c0",
   "metadata": {},
   "outputs": [
    {
     "data": {
      "text/plain": [
       "Gröbner basis with elements\n",
       "  1: k[2]*x[2] - k[1]\n",
       "  2: k[3]*x[1]*x[3] - k[1]\n",
       "with respect to the ordering\n",
       "  lex([x[1], x[3], x[2]])"
      ]
     },
     "metadata": {},
     "output_type": "display_data"
    }
   ],
   "source": [
    "f3 = get_Oscar_SteadyStatesystem(Retina_SN3)\n",
    "I3 = ideal(f3)\n",
    "G3 = Oscar.groebner_basis(I3,ordering=lex([x[1],x[3],x[2]]),  complete_reduction = true)"
   ]
  },
  {
   "cell_type": "code",
   "execution_count": null,
   "id": "dc952ecf",
   "metadata": {},
   "outputs": [
    {
     "data": {
      "text/latex": [
       "$$ \\begin{equation}\n",
       "\\frac{\\beta}{\\kappa}\n",
       "\\end{equation}\n",
       " $$"
      ],
      "text/plain": [
       "β / κ"
      ]
     },
     "metadata": {},
     "output_type": "display_data"
    }
   ],
   "source": [
    "setpoint_SN3 = (parameters(Retina_SN3)[1]) / (parameters(Retina_SN3)[2])"
   ]
  },
  {
   "cell_type": "markdown",
   "id": "fcad5fe1",
   "metadata": {},
   "source": [
    "### Deficiency 3 subnetwork requires Oscar to find RPA polynomials"
   ]
  },
  {
   "cell_type": "code",
   "execution_count": 40,
   "id": "fa318fda",
   "metadata": {},
   "outputs": [
    {
     "data": {
      "text/latex": [
       "$$ \\begin{align*}\n",
       "\\mathrm{\\mathtt{Cp1}} &\\xrightarrow{\\mathtt{p11}} \\mathrm{\\mathtt{CO}} \\\\\n",
       "\\mathrm{\\mathtt{Cp}} &\\xrightarrow{\\mathtt{k5}} \\mathrm{\\mathtt{Ce}} \\\\\n",
       "\\mathrm{\\mathtt{Cp1}} &\\xrightarrow{\\mathtt{p5}} \\mathrm{\\mathtt{Ce1}} \\\\\n",
       "\\varnothing &\\xrightarrow{\\alpha} \\mathrm{H} \\\\\n",
       "\\varnothing &\\xrightarrow{\\omega} \\mathrm{\\mathtt{H1}} \\\\\n",
       "\\mathrm{H} + \\mathrm{\\mathtt{HR}} &\\xrightarrow{\\mathtt{k9}} \\mathrm{\\mathtt{HR}} + \\mathrm{\\mathtt{Ce}} \\\\\n",
       "\\mathrm{\\mathtt{H1}} + \\mathrm{\\mathtt{HR1}} &\\xrightarrow{\\mathtt{p12}} \\mathrm{\\mathtt{HR1}} + \\mathrm{\\mathtt{Ce1}} \\\\\n",
       "\\mathrm{\\mathtt{Cp}} + \\mathrm{\\mathtt{CO}} &\\xrightarrow{\\mathtt{k12}} \\mathrm{\\mathtt{Cg}} \\\\\n",
       "\\mathrm{\\mathtt{Ce}} + \\mathrm{\\mathtt{Cg}} &\\xrightarrow{\\mathtt{k22}} \\mathrm{B} \\\\\n",
       "\\mathrm{B} &\\xrightarrow{\\mathtt{k24}} \\varnothing \\\\\n",
       "\\mathrm{\\mathtt{Ce}} &\\xrightarrow{\\mathtt{k6}} \\mathrm{\\mathtt{Cp}} \\\\\n",
       "\\mathrm{\\mathtt{Ce1}} &\\xrightarrow{\\mathtt{p6}} \\mathrm{\\mathtt{Cp1}} \\\\\n",
       "\\mathrm{\\mathtt{Ce}} &\\xrightarrow{\\mathtt{k21}} \\varnothing \\\\\n",
       "\\mathrm{\\mathtt{Ce1}} &\\xrightarrow{\\mathtt{p15}} \\varnothing  \n",
       " \\end{align*}\n",
       " $$"
      ],
      "text/plain": [
       "\u001b[0m\u001b[1mModel subnet:\u001b[22m\n",
       "\u001b[0m\u001b[1mUnknowns (11):\u001b[22m see unknowns(subnet)\n",
       "  Cp1(t)\n",
       "  CO(t)\n",
       "  Cp(t)\n",
       "  Ce(t)\n",
       "\u001b[0m  ⋮\n",
       "\u001b[0m\u001b[1mParameters (14):\u001b[22m see parameters(subnet)\n",
       "  p11\n",
       "  k5\n",
       "  p5\n",
       "  α\n",
       "\u001b[0m  ⋮"
      ]
     },
     "metadata": {},
     "output_type": "display_data"
    }
   ],
   "source": [
    "include(\"Retina_SN23.jl\")"
   ]
  },
  {
   "cell_type": "code",
   "execution_count": null,
   "id": "7a12cd40",
   "metadata": {},
   "outputs": [
    {
     "data": {
      "text/plain": [
       "11-element Vector{SymbolicUtils.BasicSymbolic{Real}}:\n",
       " Cp1(t)\n",
       " CO(t)\n",
       " Cp(t)\n",
       " Ce(t)\n",
       " Ce1(t)\n",
       " H(t)\n",
       " H1(t)\n",
       " HR(t)\n",
       " HR1(t)\n",
       " Cg(t)\n",
       " B(t)"
      ]
     },
     "metadata": {},
     "output_type": "display_data"
    }
   ],
   "source": [
    "species(Retina_SN23)"
   ]
  },
  {
   "cell_type": "code",
   "execution_count": 27,
   "id": "0b9fc477",
   "metadata": {},
   "outputs": [
    {
     "data": {
      "text/plain": [
       "14-element Vector{Any}:\n",
       " p11\n",
       " k5\n",
       " p5\n",
       " α\n",
       " ω\n",
       " k9\n",
       " p12\n",
       " k12\n",
       " k22\n",
       " k24\n",
       " k6\n",
       " p6\n",
       " k21\n",
       " p15"
      ]
     },
     "metadata": {},
     "output_type": "display_data"
    }
   ],
   "source": [
    "parms23 = parameters(Retina_SN23)"
   ]
  },
  {
   "cell_type": "markdown",
   "id": "d0d8518d",
   "metadata": {},
   "source": [
    "### Projecting onto species 1 and 6"
   ]
  },
  {
   "cell_type": "code",
   "execution_count": 26,
   "id": "b285cd6c",
   "metadata": {},
   "outputs": [
    {
     "data": {
      "text/plain": [
       "Gröbner basis with elements\n",
       "  1: (k[1]*k[12] + k[1]*k[14] + k[3]*k[14])*x[1] - k[5]*k[12]\n",
       "  2: k[6]*x[6]*x[8] - k[4]\n",
       "  3: k[7]*x[7]*x[9] - k[5]\n",
       "  4: (k[1]*k[12]*k[13] + k[1]*k[13]*k[14] + k[3]*k[13]*k[14])*x[4] - k[1]*k[4]*k[12] - k[1]*k[4]*k[14] + 2*k[1]*k[5]*k[12] - k[3]*k[4]*k[14]\n",
       "  5: (k[1]*k[10]*k[12] + k[1]*k[10]*k[14] + k[3]*k[10]*k[14])*x[11] - k[1]*k[5]*k[12]\n",
       "  6: (k[1]*k[4]*k[9]*k[12] + k[1]*k[4]*k[9]*k[14] - 2*k[1]*k[5]*k[9]*k[12] + k[3]*k[4]*k[9]*k[14])*x[10] - k[1]*k[5]*k[12]*k[13]\n",
       "  7: (k[1]*k[2]*k[12]*k[13] + k[1]*k[2]*k[13]*k[14] + k[2]*k[3]*k[13]*k[14])*x[3] - k[1]*k[4]*k[11]*k[12] - k[1]*k[4]*k[11]*k[14] + 2*k[1]*k[5]*k[11]*k[12] + k[1]*k[5]*k[12]*k[13] - k[3]*k[4]*k[11]*k[14]\n",
       "  8: (k[1]*k[4]*k[8]*k[11]*k[12] + k[1]*k[4]*k[8]*k[11]*k[14] - 2*k[1]*k[5]*k[8]*k[11]*k[12] - k[1]*k[5]*k[8]*k[12]*k[13] + k[3]*k[4]*k[8]*k[11]*k[14])*x[2] - k[1]*k[2]*k[5]*k[12]*k[13]\n",
       "  9: (k[1]*k[12] + k[1]*k[14] + k[3]*k[14])*x[5] - k[1]*k[5] - k[3]*k[5]\n",
       "with respect to the ordering\n",
       "  lex([x[5], x[2], x[3], x[10], x[11], x[4], x[7], x[8], x[9], x[6], x[1]])"
      ]
     },
     "metadata": {},
     "output_type": "display_data"
    }
   ],
   "source": [
    "f23 = get_Oscar_SteadyStatesystem(Retina_SN23)\n",
    "I23 = ideal(f23)\n",
    "G23 = Oscar.groebner_basis(I23,ordering=lex([x[5],x[2],x[3],x[10],x[11],x[4],x[7],x[8],x[9],x[6],x[1]]),  complete_reduction = true) #should be same information"
   ]
  },
  {
   "cell_type": "code",
   "execution_count": null,
   "id": "88260612",
   "metadata": {},
   "outputs": [
    {
     "data": {
      "text/latex": [
       "$$ \\begin{equation}\n",
       "\\frac{\\mathtt{p6} \\omega}{\\mathtt{p11} \\mathtt{p15} + \\mathtt{p11} \\mathtt{p6} + \\mathtt{p15} \\mathtt{p5}}\n",
       "\\end{equation}\n",
       " $$"
      ],
      "text/plain": [
       "(p6*ω) / (p11*p15 + p11*p6 + p15*p5)"
      ]
     },
     "metadata": {},
     "output_type": "display_data"
    }
   ],
   "source": [
    "(parms23[5]*parms23[12])/(parms23[1]*parms23[12] + parms23[1]*parms23[14] + parms23[3]*parms23[14])\n",
    "### Note this currently doesn't match the setpoint calculated in the paper- need to check this"
   ]
  },
  {
   "cell_type": "markdown",
   "id": "4d7867d6",
   "metadata": {},
   "source": [
    "### Projecting onto species 2 and 6"
   ]
  },
  {
   "cell_type": "code",
   "execution_count": 29,
   "id": "7e08fc66",
   "metadata": {},
   "outputs": [
    {
     "data": {
      "text/plain": [
       "Gröbner basis with elements\n",
       "  1: (k[1]*k[4]*k[8]*k[11]*k[12] + k[1]*k[4]*k[8]*k[11]*k[14] - 2*k[1]*k[5]*k[8]*k[11]*k[12] - k[1]*k[5]*k[8]*k[12]*k[13] + k[3]*k[4]*k[8]*k[11]*k[14])*x[2] - k[1]*k[2]*k[5]*k[12]*k[13]\n",
       "  2: k[6]*x[6]*x[8] - k[4]\n",
       "  3: k[7]*x[7]*x[9] - k[5]\n",
       "  4: (k[1]*k[12]*k[13] + k[1]*k[13]*k[14] + k[3]*k[13]*k[14])*x[4] - k[1]*k[4]*k[12] - k[1]*k[4]*k[14] + 2*k[1]*k[5]*k[12] - k[3]*k[4]*k[14]\n",
       "  5: (k[1]*k[10]*k[12] + k[1]*k[10]*k[14] + k[3]*k[10]*k[14])*x[11] - k[1]*k[5]*k[12]\n",
       "  6: (k[1]*k[4]*k[9]*k[12] + k[1]*k[4]*k[9]*k[14] - 2*k[1]*k[5]*k[9]*k[12] + k[3]*k[4]*k[9]*k[14])*x[10] - k[1]*k[5]*k[12]*k[13]\n",
       "  7: (k[1]*k[2]*k[12]*k[13] + k[1]*k[2]*k[13]*k[14] + k[2]*k[3]*k[13]*k[14])*x[3] - k[1]*k[4]*k[11]*k[12] - k[1]*k[4]*k[11]*k[14] + 2*k[1]*k[5]*k[11]*k[12] + k[1]*k[5]*k[12]*k[13] - k[3]*k[4]*k[11]*k[14]\n",
       "  8: (k[1]*k[12] + k[1]*k[14] + k[3]*k[14])*x[1] - k[5]*k[12]\n",
       "  9: (k[1]*k[12] + k[1]*k[14] + k[3]*k[14])*x[5] - k[1]*k[5] - k[3]*k[5]\n",
       "with respect to the ordering\n",
       "  lex([x[5], x[1], x[3], x[10], x[11], x[4], x[7], x[8], x[9], x[6], x[2]])"
      ]
     },
     "metadata": {},
     "output_type": "display_data"
    }
   ],
   "source": [
    "f23 = get_Oscar_SteadyStatesystem(Retina_SN23)\n",
    "I23 = ideal(f23)\n",
    "G23 = Oscar.groebner_basis(I23,ordering=lex([x[5],x[1],x[3],x[10],x[11],x[4],x[7],x[8],x[9],x[6],x[2]]),  complete_reduction = true) #should be same information"
   ]
  },
  {
   "cell_type": "code",
   "execution_count": 30,
   "id": "7321ebc0",
   "metadata": {},
   "outputs": [
    {
     "data": {
      "text/latex": [
       "$$ \\begin{equation}\n",
       "\\frac{\\mathtt{k21} \\mathtt{k5} \\mathtt{p11} \\mathtt{p6} \\omega}{ - \\mathtt{k12} \\mathtt{k21} \\mathtt{p11} \\mathtt{p6} \\omega + \\mathtt{k12} \\mathtt{k6} \\mathtt{p11} \\mathtt{p15} \\alpha + \\mathtt{k12} \\mathtt{k6} \\mathtt{p11} \\mathtt{p6} \\alpha - 2 \\mathtt{k12} \\mathtt{k6} \\mathtt{p11} \\mathtt{p6} \\omega + \\mathtt{k12} \\mathtt{k6} \\mathtt{p15} \\mathtt{p5} \\alpha}\n",
       "\\end{equation}\n",
       " $$"
      ],
      "text/plain": [
       "(k21*k5*p11*p6*ω) / (-k12*k21*p11*p6*ω + k12*k6*p11*p15*α + k12*k6*p11*p6*α - 2k12*k6*p11*p6*ω + k12*k6*p15*p5*α)"
      ]
     },
     "metadata": {},
     "output_type": "display_data"
    }
   ],
   "source": [
    "(parms23[1]*parms23[2]*parms23[5]*parms23[12]*parms23[13]) / (parms23[1]*parms23[4]*parms23[8]*parms23[11]*parms23[12] + parms23[1]*parms23[4]*parms23[8]*parms23[11]*parms23[14] - 2*parms23[1]*parms23[5]*parms23[8]*parms23[11]*parms23[12] - parms23[1]*parms23[5]*parms23[8]*parms23[12]*parms23[13] + parms23[3]*parms23[4]*parms23[8]*parms23[11]*parms23[14])"
   ]
  }
 ],
 "metadata": {
  "kernelspec": {
   "display_name": "Julia 1.11.5",
   "language": "julia",
   "name": "julia-1.11"
  },
  "language_info": {
   "file_extension": ".jl",
   "mimetype": "application/julia",
   "name": "julia",
   "version": "1.11.5"
  }
 },
 "nbformat": 4,
 "nbformat_minor": 5
}
